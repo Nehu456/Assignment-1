{
  "nbformat": 4,
  "nbformat_minor": 0,
  "metadata": {
    "colab": {
      "provenance": []
    },
    "kernelspec": {
      "name": "python3",
      "display_name": "Python 3"
    },
    "language_info": {
      "name": "python"
    }
  },
  "cells": [
    {
      "cell_type": "markdown",
      "source": [
        "**Python Basics** **Questions**\n"
      ],
      "metadata": {
        "id": "jm-jZbGh0dEK"
      }
    },
    {
      "cell_type": "markdown",
      "source": [
        "Answer-1\n",
        "\n",
        "\n",
        "Python is a high-level, interpreted programming language known for its simplicity and readability. It was created by Guido van Rossum and first released in 1991. Python emphasizes code readability, which makes it easier to write and understand, even for beginners.\n"
      ],
      "metadata": {
        "id": "dcO_d28h0mWo"
      }
    },
    {
      "cell_type": "markdown",
      "source": [
        "Answer - 2\n",
        "\n",
        "An interpreter in Python is a program that reads and executes Python code line by line. It converts the high-level Python code into machine-readable instructions that the computer can execute. Unlike a compiler, which translates the entire program into machine code before execution, an interpreter processes the code incrementally."
      ],
      "metadata": {
        "id": "hFvuknGMEHfQ"
      }
    },
    {
      "cell_type": "markdown",
      "source": [
        "Answer-3\n",
        "\n",
        "In Python, pre-defined keywords are reserved words that have specific meanings and purposes within the language. These keywords are part of Python's syntax and cannot be used as identifiers (e.g., variable names, function names) because they are integral to the language's functionality."
      ],
      "metadata": {
        "id": "JR5gRyZgES3Q"
      }
    },
    {
      "cell_type": "markdown",
      "source": [
        "Answer-4\n",
        "\n",
        "No, keywords cannot be used as variable names in Python because they are reserved words with special meanings in the language's syntax. Using a keyword as a variable name will result in a SyntaxError."
      ],
      "metadata": {
        "id": "L2bHgAq-FYwI"
      }
    },
    {
      "cell_type": "markdown",
      "source": [
        "Answer-5\n",
        "\n",
        "Mutability in Python refers to whether an object’s state (its data or content) can be changed after it is created.\n",
        "\n",
        "Mutable objects: Their content can be modified without changing their identity.\n",
        "Immutable objects: Once created, their content cannot be changed. If you need a modified version, a new object is created.\n"
      ],
      "metadata": {
        "id": "FJ854jgPFecZ"
      }
    },
    {
      "cell_type": "markdown",
      "source": [
        "Answer-6\n",
        "\n",
        "The mutability of lists and the immutability of tuples in Python are design choices made to balance flexibility, performance, and use case specialization.\n",
        "\n",
        "Immutability provides safety: Since tuples cannot be altered, they are hashable and can be used as keys in dictionaries or elements in sets.\n",
        "\n",
        "Python can optimize immutable objects for performance, as their fixed state allows certain internal efficiencies."
      ],
      "metadata": {
        "id": "qX4irqt_GDuD"
      }
    },
    {
      "cell_type": "markdown",
      "source": [
        "Answer-7\n",
        "\n",
        "The == and is operators in Python are both used for comparisons, but they serve different purposes and work in distinct ways:\n",
        "\n",
        "== (Equality Operator):\n",
        "Purpose: Compares the values of two objects to determine if they are equal.\n",
        "Checks: Whether the contents or data of the two objects are the same.\n",
        "\n",
        "\n",
        "is (Identity Operator):\n",
        "Purpose: Checks whether two objects refer to the same memory location (i.e., whether they are the same object).\n",
        "Checks: Identity, not value.\n"
      ],
      "metadata": {
        "id": "y87R4irrGvNH"
      }
    },
    {
      "cell_type": "markdown",
      "source": [
        "Answer-8\n",
        "\n",
        "Logical operators in Python are used to combine conditional statements and evaluate expressions that result in Boolean values (True or False). They allow you to perform logical operations like conjunction, disjunction, and negation.\n",
        "\n",
        "Logical Operators in Python\n",
        "and (Logical AND):\n",
        "\n",
        "Returns True if both operands are True.\n",
        "Otherwise, returns False.\n",
        "Truth Table:\n",
        "\n",
        "Operand 1\tOperand 2\tResult\n",
        "True\t   True     \tTrue\n",
        "True   \tFalse\t     False\n",
        "False \tTrue\t     False\n",
        "False \tFalse    \tFalse\n"
      ],
      "metadata": {
        "id": "zueC4huxHOI6"
      }
    },
    {
      "cell_type": "markdown",
      "source": [
        "Answer-9\n",
        "\n",
        "Type casting in Python is the process of converting one data type into another. It allows you to explicitly change the type of a variable or value to suit the needs of your program. Python provides built-in functions for type casting, making it straightforward to switch between compatible types.\n",
        "\n",
        "Implicit Type Casting:\n",
        "\n",
        "Done automatically by Python.\n",
        "\n",
        "Happens when Python converts one data type to another during an operation without requiring explicit instructions from the programmer.\n",
        "\n",
        "Typically occurs when combining compatible types, such as integers and floats.\n",
        "\n",
        "Explicit Type Casting:\n",
        "\n",
        "Done manually by the programmer using Python's type conversion functions.\n",
        "\n",
        "Allows you to control how and when the conversion happens."
      ],
      "metadata": {
        "id": "0FPx8Fx5H1t-"
      }
    },
    {
      "cell_type": "markdown",
      "source": [
        "Answer-10\n",
        "\n",
        "The difference between implicit and explicit type casting lies in who performs the conversion and how it is triggered.\n",
        "\n",
        "\n",
        " Feature    -  Implicit Type Casting -\n",
        " Initiator   -    Python (automatically)\n",
        " Control    -   No control by the programmer\n",
        " Use Case   -    Safe conversions between compatible types\n",
        " Risk of Error   -    No risk (handled by Python)\n",
        " Examples   -   int to float, bool to int\n",
        "\n",
        "\n",
        " Feature    -  Implicit Type Casting -\n",
        " Initiator   -    Programmer (manually)\n",
        " Control    -   Forced conversions between incompatible types\n",
        " Use Case   -    Safe conversions between compatible types\n",
        " Risk of Error   -   Possible errors if conversion fails\n",
        " Examples   -  str to int, float to int\n",
        "\n"
      ],
      "metadata": {
        "id": "8KQcRMi59H-_"
      }
    },
    {
      "cell_type": "markdown",
      "source": [
        "Answer-11\n",
        "\n",
        "The purpose of conditional statements in Python is to control the flow of a program by executing specific blocks of code based on whether a condition is True or False. They allow decision-making in programs, enabling dynamic and flexible behavior."
      ],
      "metadata": {
        "id": "LgwNeKsa-qTj"
      }
    },
    {
      "cell_type": "markdown",
      "source": [
        "Answer-12\n",
        "\n",
        "The elif statement in Python is short for \"else if\". It allows you to test multiple conditions in a sequence after an initial if condition. If the if condition evaluates to False, the program checks the elif conditions one by one, in order. The first elif condition that evaluates to True executes its associated block of code, and the rest of the elif and else blocks are skipped.\n",
        "\n",
        "\n",
        "The elif statement in Python is short for \"else if\". It allows you to test multiple conditions in a sequence after an initial if condition. If the if condition evaluates to False, the program checks the elif conditions one by one, in order. The first elif condition that evaluates to True executes its associated block of code, and the rest of the elif and else blocks are skipped.\n",
        "\n",
        "How elif Works\n",
        "\n",
        "The if condition is evaluated first:\n",
        "\n",
        "   If it is True, its block of code executes, and all elif and else blocks are skipped.\n",
        "\n",
        "If the if condition is False, Python evaluates the elif conditions in the order they appear.\n",
        "  The first elif condition that evaluates to True executes its block, and the rest are skipped.\n",
        "  \n",
        "If none of the if or elif conditions are True, the else block (if present) executes.\n"
      ],
      "metadata": {
        "id": "Grbliwi2-9Lz"
      }
    },
    {
      "cell_type": "markdown",
      "source": [
        "Answer-13\n",
        "\n",
        "The for and while loops in Python are both used for iteration, but they differ in how and when they are used. Here's a detailed comparison:\n",
        "\n",
        "1. for Loop\n",
        "\n",
        "-Definition: A loop that iterates over a sequence (e.g., list, tuple, string, range) or other iterable objects.\n",
        "\n",
        "-Purpose: Used when the number of iterations is known or determinable in advance.\n",
        "\n",
        "2. while Loop\n",
        "\n",
        "-Definition: A loop that continues to execute as long as a specified condition is True.\n",
        "\n",
        "-Purpose: Used when the number of iterations is not known in advance and depends on a condition being met."
      ],
      "metadata": {
        "id": "H7Fxi9xC_a4u"
      }
    },
    {
      "cell_type": "markdown",
      "source": [
        "Answer-14\n",
        "\n",
        "A while loop is more suitable than a for loop when the number of iterations is not known in advance and depends on a condition being met during runtime. Here's a common scenario:\n",
        "\n",
        "**Scenario: User Input Validation**\n",
        "\n",
        "\n",
        "Suppose you're creating a program that asks the user to enter a valid password. The program should keep asking for input until the user provides the correct password. Since the number of attempts is unknown, a while loop is ideal."
      ],
      "metadata": {
        "id": "W4OFWSzg__Ux"
      }
    },
    {
      "cell_type": "markdown",
      "source": [
        "**Practical** **Questions**\n",
        "\n",
        "\n"
      ],
      "metadata": {
        "id": "iKmuczaYLWnQ"
      }
    },
    {
      "cell_type": "code",
      "source": [
        "# Answer no.1\n",
        "\n",
        "print (\"Hellow World!\")\n",
        "\n"
      ],
      "metadata": {
        "colab": {
          "base_uri": "https://localhost:8080/"
        },
        "id": "Pnpd9gSXLkor",
        "outputId": "b97195c1-4bc7-4eaa-d128-f47a6235b178"
      },
      "execution_count": null,
      "outputs": [
        {
          "output_type": "stream",
          "name": "stdout",
          "text": [
            "Hellow World!\n"
          ]
        }
      ]
    },
    {
      "cell_type": "code",
      "source": [
        "#Answer-2\n",
        "\n",
        "Name=\"Neha Tripathi\"\n",
        "Age=22\n",
        "\n",
        "print(\"Name:\",Name)\n",
        "print(\"Age:\",Age)"
      ],
      "metadata": {
        "colab": {
          "base_uri": "https://localhost:8080/"
        },
        "id": "30g56NvuPzUu",
        "outputId": "c95907de-3dc8-4386-98e9-0f5b057586c2"
      },
      "execution_count": null,
      "outputs": [
        {
          "output_type": "stream",
          "name": "stdout",
          "text": [
            "Name: Neha Tripathi\n",
            "Age: 22\n"
          ]
        }
      ]
    },
    {
      "cell_type": "code",
      "source": [
        "#Answer-3\n",
        "\n",
        "import keyword\n",
        "print(keyword.kwlist)"
      ],
      "metadata": {
        "colab": {
          "base_uri": "https://localhost:8080/"
        },
        "id": "5476fuYTQxpy",
        "outputId": "313a9560-1c7b-467d-bdff-fcf1daf44a40"
      },
      "execution_count": null,
      "outputs": [
        {
          "output_type": "stream",
          "name": "stdout",
          "text": [
            "['False', 'None', 'True', 'and', 'as', 'assert', 'async', 'await', 'break', 'class', 'continue', 'def', 'del', 'elif', 'else', 'except', 'finally', 'for', 'from', 'global', 'if', 'import', 'in', 'is', 'lambda', 'nonlocal', 'not', 'or', 'pass', 'raise', 'return', 'try', 'while', 'with', 'yield']\n"
          ]
        }
      ]
    },
    {
      "cell_type": "code",
      "source": [
        "#Answer-4\n",
        "import keyword\n",
        "\n",
        "word = input(\"Enter a word to check if it's a Python keyword: \")\n",
        "\n",
        "if keyword.iskeyword(word):\n",
        "    print(f'\"{word}\" is a Python keyword.')\n",
        "else:\n",
        "    print(f'\"{word}\" is not a Python keyword.')\n"
      ],
      "metadata": {
        "colab": {
          "base_uri": "https://localhost:8080/"
        },
        "id": "UHdfqNS-RCJQ",
        "outputId": "66d96ca9-0869-403e-eb68-04d0df519f3b"
      },
      "execution_count": null,
      "outputs": [
        {
          "output_type": "stream",
          "name": "stdout",
          "text": [
            "Enter a word to check if it's a Python keyword: as\n",
            "\"as\" is a Python keyword.\n"
          ]
        }
      ]
    },
    {
      "cell_type": "code",
      "source": [
        "#Answer-5\n",
        "\n",
        "my_list = [10, 20, 30]\n",
        "print(\"Original List:\", my_list)\n",
        "\n",
        "my_list[1] = 25\n",
        "print(\"Modified List:\", my_list)\n",
        "\n",
        "\n"
      ],
      "metadata": {
        "colab": {
          "base_uri": "https://localhost:8080/"
        },
        "id": "AVNy8TVxRW9a",
        "outputId": "9c9328c5-881a-4cf0-b76e-e0b2ac39e0fc"
      },
      "execution_count": null,
      "outputs": [
        {
          "output_type": "stream",
          "name": "stdout",
          "text": [
            "Original List: [10, 20, 30]\n",
            "Modified List: [10, 25, 30]\n"
          ]
        }
      ]
    },
    {
      "cell_type": "code",
      "source": [
        "my_tuple = (10, 20, 30)\n",
        "print(\"Original Tuple:\", my_tuple)\n",
        "\n",
        "\n",
        "    my_tuple[1] = 25\n",
        "    print(\"Modified Tuple:\", my_tuple)\n"
      ],
      "metadata": {
        "colab": {
          "base_uri": "https://localhost:8080/",
          "height": 106
        },
        "id": "knkzjbjOSccM",
        "outputId": "7ccb0238-aecd-4be8-8541-8f9840bd2677"
      },
      "execution_count": null,
      "outputs": [
        {
          "output_type": "error",
          "ename": "IndentationError",
          "evalue": "unexpected indent (<ipython-input-21-af22622ff163>, line 5)",
          "traceback": [
            "\u001b[0;36m  File \u001b[0;32m\"<ipython-input-21-af22622ff163>\"\u001b[0;36m, line \u001b[0;32m5\u001b[0m\n\u001b[0;31m    my_tuple[1] = 25\u001b[0m\n\u001b[0m    ^\u001b[0m\n\u001b[0;31mIndentationError\u001b[0m\u001b[0;31m:\u001b[0m unexpected indent\n"
          ]
        }
      ]
    },
    {
      "cell_type": "code",
      "source": [
        "\n",
        "#Answer-6\n",
        "\n",
        "def modify_arguments(mutable_arg, immutable_arg):\n",
        "    # Modify the mutable argument (list)\n",
        "    mutable_arg.append(100)\n",
        "    print(\"Inside function (mutable_arg):\", mutable_arg)\n",
        "\n",
        "    # Modify the immutable argument (integer)\n",
        "    immutable_arg += 10\n",
        "    print(\"Inside function (immutable_arg):\", immutable_arg)\n",
        "\n",
        "\n",
        "# Initial values\n",
        "my_list = [1, 2, 3]  # Mutable\n",
        "my_number = 5        # Immutable\n",
        "\n",
        "# Before function call\n",
        "print(\"Before function call:\")\n",
        "print(\"Mutable argument (list):\", my_list)\n",
        "print(\"Immutable argument (number):\", my_number)\n",
        "\n",
        "# Call the function\n",
        "modify_arguments(my_list, my_number)\n",
        "\n",
        "# After function call\n",
        "print(\"\\nAfter function call:\")\n",
        "print(\"Mutable argument (list):\", my_list)\n",
        "print(\"Immutable argument (number):\", my_number)\n"
      ],
      "metadata": {
        "colab": {
          "base_uri": "https://localhost:8080/"
        },
        "id": "dE84n6zqTi5j",
        "outputId": "70a1c8a1-986a-42bc-c8ce-026c208bffa8"
      },
      "execution_count": null,
      "outputs": [
        {
          "output_type": "stream",
          "name": "stdout",
          "text": [
            "Before function call:\n",
            "Mutable argument (list): [1, 2, 3]\n",
            "Immutable argument (number): 5\n",
            "Inside function (mutable_arg): [1, 2, 3, 100]\n",
            "Inside function (immutable_arg): 15\n",
            "\n",
            "After function call:\n",
            "Mutable argument (list): [1, 2, 3, 100]\n",
            "Immutable argument (number): 5\n"
          ]
        }
      ]
    },
    {
      "cell_type": "code",
      "source": [
        "#Answer-7\n",
        "\n",
        "#anser-7 is  same as answer no 6\n"
      ],
      "metadata": {
        "id": "QB685DNMp-2H"
      },
      "execution_count": null,
      "outputs": []
    },
    {
      "cell_type": "code",
      "source": [
        "#Answer-8\n",
        "def check_conditions(a, b):\n",
        "    # Using the 'and' operator\n",
        "    if a > 0 and b > 0:\n",
        "        print(\"Both a and b are positive.\")\n",
        "\n",
        "    # Using the 'or' operator\n",
        "    if a > 0 or b > 0:\n",
        "        print(\"At least one of a or b is positive.\")\n",
        "\n",
        "    # Using the 'not' operator\n",
        "    if not (a > 0):\n",
        "        print(\"a is not positive.\")\n",
        "\n",
        "\n",
        "# Input values\n",
        "a = int(input(\"Enter a value for a: \"))\n",
        "b = int(input(\"Enter a value for b: \"))\n",
        "\n",
        "# Call the function\n",
        "check_conditions(a, b)\n"
      ],
      "metadata": {
        "colab": {
          "base_uri": "https://localhost:8080/"
        },
        "id": "mvMUvVrWqzfZ",
        "outputId": "2410bef1-6743-4599-cc82-5d9a6e627fe2"
      },
      "execution_count": 25,
      "outputs": [
        {
          "output_type": "stream",
          "name": "stdout",
          "text": [
            "Enter a value for a: 3\n",
            "Enter a value for b: 5\n",
            "Both a and b are positive.\n",
            "At least one of a or b is positive.\n"
          ]
        }
      ]
    },
    {
      "cell_type": "code",
      "source": [
        "#Answer-9\n",
        "# Input from the user\n",
        "user_input = input(\"Enter a value: \")\n",
        "\n",
        "# Convert to integer\n",
        "try:\n",
        "    int_value = int(user_input)\n",
        "    print(\"Integer:\", int_value)\n",
        "except ValueError:\n",
        "    print(\"Cannot convert to integer.\")\n",
        "\n",
        "# Convert to float\n",
        "try:\n",
        "    float_value = float(user_input)\n",
        "    print(\"Float:\", float_value)\n",
        "except ValueError:\n",
        "    print(\"Cannot convert to float.\")\n",
        "\n",
        "# Convert to boolean\n",
        "# In Python, empty strings, \"0\", or \"False\" (case insensitive) are considered False, others are True\n",
        "bool_value = user_input.strip().lower() not in [\"\", \"0\", \"false\"]\n",
        "print(\"Boolean:\", bool_value)\n"
      ],
      "metadata": {
        "id": "mn858sm6tFYe",
        "colab": {
          "base_uri": "https://localhost:8080/"
        },
        "outputId": "55f8aebc-dc20-41b1-a0d6-45ecd35e50cd"
      },
      "execution_count": 26,
      "outputs": [
        {
          "output_type": "stream",
          "name": "stdout",
          "text": [
            "Enter a value: 45\n",
            "Integer: 45\n",
            "Float: 45.0\n",
            "Boolean: True\n"
          ]
        }
      ]
    },
    {
      "cell_type": "code",
      "source": [
        "#Answer-10\n",
        "\n",
        "# Initial list with mixed types\n",
        "mixed_list = [\"10\", \"20.5\", \"True\", 30, 40.5]\n",
        "\n",
        "# Convert string elements to integer and float\n",
        "converted_list = []\n",
        "for item in mixed_list:\n",
        "    if isinstance(item, str):\n",
        "        # Convert string to integer if possible\n",
        "        if item.isdigit():\n",
        "            converted_list.append(int(item))\n",
        "        # Convert string to float if possible\n",
        "        elif item.replace('.', '', 1).isdigit():\n",
        "            converted_list.append(float(item))\n",
        "        # Convert string to boolean (e.g., \"True\" -> True)\n",
        "        elif item.lower() == \"true\":\n",
        "            converted_list.append(True)\n",
        "        elif item.lower() == \"false\":\n",
        "            converted_list.append(False)\n",
        "        else:\n",
        "            converted_list.append(item)  # Keep the string if no conversion is possible\n",
        "    else:\n",
        "        # For integers and floats, cast them to string\n",
        "        converted_list.append(str(item))\n",
        "\n",
        "# Display the original and converted lists\n",
        "print(\"Original list:\", mixed_list)\n",
        "print(\"Converted list:\", converted_list)\n",
        "\n"
      ],
      "metadata": {
        "colab": {
          "base_uri": "https://localhost:8080/"
        },
        "id": "DAsXoNTGvcXB",
        "outputId": "5c1dca7e-b632-4d21-bbda-b6434d98a11a"
      },
      "execution_count": 27,
      "outputs": [
        {
          "output_type": "stream",
          "name": "stdout",
          "text": [
            "Original list: ['10', '20.5', 'True', 30, 40.5]\n",
            "Converted list: [10, 20.5, True, '30', '40.5']\n"
          ]
        }
      ]
    },
    {
      "cell_type": "code",
      "source": [
        "#Answer-11\n",
        "\n",
        "# Input from the user\n",
        "number = float(input(\"Enter a number: \"))\n",
        "\n",
        "# Check if the number is positive, negative, or zero\n",
        "if number > 0:\n",
        "    print(\"The number is positive.\")\n",
        "elif number < 0:\n",
        "    print(\"The number is negative.\")\n",
        "else:\n",
        "    print(\"The number is zero.\")\n"
      ],
      "metadata": {
        "colab": {
          "base_uri": "https://localhost:8080/"
        },
        "id": "ckB7BnXWxZoq",
        "outputId": "6805b55a-5919-4fe4-cb31-e5588847872a"
      },
      "execution_count": 28,
      "outputs": [
        {
          "output_type": "stream",
          "name": "stdout",
          "text": [
            "Enter a number: 66\n",
            "The number is positive.\n"
          ]
        }
      ]
    },
    {
      "cell_type": "code",
      "source": [
        "#Answer-12"
      ],
      "metadata": {
        "id": "c8M28v7Gxi3I"
      },
      "execution_count": 29,
      "outputs": []
    },
    {
      "cell_type": "code",
      "source": [
        "# Using a for loop to print numbers from 1 to 10\n",
        "for i in range(1, 11):\n",
        "    print(i)\n"
      ],
      "metadata": {
        "colab": {
          "base_uri": "https://localhost:8080/"
        },
        "id": "B_P7eOjuxmcF",
        "outputId": "d81cb69a-6452-49a8-bb95-a079af63aa31"
      },
      "execution_count": 30,
      "outputs": [
        {
          "output_type": "stream",
          "name": "stdout",
          "text": [
            "1\n",
            "2\n",
            "3\n",
            "4\n",
            "5\n",
            "6\n",
            "7\n",
            "8\n",
            "9\n",
            "10\n"
          ]
        }
      ]
    },
    {
      "cell_type": "code",
      "source": [
        "#Answer-13\n",
        "# Initialize sum variable\n",
        "sum_of_evens = 0\n",
        "\n",
        "# Loop through numbers from 1 to 50\n",
        "for num in range(1, 51):\n",
        "    if num % 2 == 0:  # Check if the number is even\n",
        "        sum_of_evens += num  # Add the even number to the sum\n",
        "\n",
        "# Print the result\n",
        "print(\"The sum of all even numbers between 1 and 50 is:\", sum_of_evens)\n"
      ],
      "metadata": {
        "colab": {
          "base_uri": "https://localhost:8080/"
        },
        "id": "PhSG5hzxxwfH",
        "outputId": "826624a1-3628-4777-8e85-49a1bca7e0d1"
      },
      "execution_count": 31,
      "outputs": [
        {
          "output_type": "stream",
          "name": "stdout",
          "text": [
            "The sum of all even numbers between 1 and 50 is: 650\n"
          ]
        }
      ]
    },
    {
      "cell_type": "code",
      "source": [
        "#Answer-14\n",
        "# Input string from the user\n",
        "input_string = input(\"Enter a string: \")\n",
        "\n",
        "# Initialize variables\n",
        "reversed_string = \"\"\n",
        "index = len(input_string) - 1\n",
        "\n",
        "# Reverse the string using a while loop\n",
        "while index >= 0:\n",
        "    reversed_string += input_string[index]\n",
        "    index -= 1\n",
        "\n",
        "# Print the reversed string\n",
        "print(\"Reversed string:\", reversed_string)\n"
      ],
      "metadata": {
        "colab": {
          "base_uri": "https://localhost:8080/"
        },
        "id": "jN51jegTzR88",
        "outputId": "1cc8e259-5570-48cf-fbc9-35759d8da0fd"
      },
      "execution_count": 32,
      "outputs": [
        {
          "output_type": "stream",
          "name": "stdout",
          "text": [
            "Enter a string: neha\n",
            "Reversed string: ahen\n"
          ]
        }
      ]
    },
    {
      "cell_type": "code",
      "source": [
        "#Answer 15\n",
        "# Input number from the user\n",
        "number = int(input(\"Enter a number to calculate its factorial: \"))\n",
        "\n",
        "# Initialize factorial result\n",
        "factorial = 1\n",
        "\n",
        "# Check if the number is negative\n",
        "if number < 0:\n",
        "    print(\"Factorial does not exist for negative numbers.\")\n",
        "else:\n",
        "    # Calculate factorial using a while loop\n",
        "    while number > 1:\n",
        "        factorial *= number\n",
        "        number -= 1\n",
        "\n",
        "    # Print the result\n",
        "    print(\"The factorial is:\", factorial)\n"
      ],
      "metadata": {
        "colab": {
          "base_uri": "https://localhost:8080/"
        },
        "id": "zlioqXw0zeeX",
        "outputId": "6a441a56-e688-4057-f4c1-ea98569734f4"
      },
      "execution_count": 33,
      "outputs": [
        {
          "output_type": "stream",
          "name": "stdout",
          "text": [
            "Enter a number to calculate its factorial: 45\n",
            "The factorial is: 119622220865480194561963161495657715064383733760000000000\n"
          ]
        }
      ]
    },
    {
      "cell_type": "code",
      "source": [],
      "metadata": {
        "id": "M0oYYrtWz09c"
      },
      "execution_count": null,
      "outputs": []
    }
  ]
}